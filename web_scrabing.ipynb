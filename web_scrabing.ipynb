{
 "cells": [
  {
   "cell_type": "code",
   "execution_count": 1,
   "metadata": {},
   "outputs": [],
   "source": [
    "import requests\n",
    "import csv"
   ]
  },
  {
   "cell_type": "code",
   "execution_count": 75,
   "metadata": {},
   "outputs": [
    {
     "name": "stdout",
     "output_type": "stream",
     "text": [
      "True\n"
     ]
    }
   ],
   "source": [
    "response_covid = requests.get(\"http://coronavirus.m.pipedream.net/\")\n",
    "COVID_CSV = response_covid.json()"
   ]
  },
  {
   "cell_type": "code",
   "execution_count": 78,
   "metadata": {},
   "outputs": [],
   "source": [
    "\n",
    "#how to open and store data in an excel sheet file\n",
    "with open('COVID.csv','w',newline= '') as f: #creating a csv file and giving a subname 'f'\n",
    "    writer = csv.DictWriter(f,fieldnames= ['Country_Region','Confirmed','Deaths','Province_State']) #DictWriter is way in the csv module helps you to write in an excel sheet file buy entering an object with type dict\n",
    "    writer.writeheader()\n",
    "    for i in COVID_CSV['rawData']:\n",
    "        if(i['Province_State'] ==''):\n",
    "            Province_State = 'False'\n",
    "        else:\n",
    "            Province_State= i['Province_State']\n",
    "        Country_Region= i['Country_Region']\n",
    "        Confirmed= i['Confirmed']\n",
    "        Deaths= i['Deaths']\n",
    "\n",
    "        writer.writerow(\n",
    "            {\n",
    "                'Country_Region':Country_Region,\n",
    "                'Confirmed':Confirmed,\n",
    "                'Deaths':Deaths,\n",
    "                'Province_State':Province_State\n",
    "            }\n",
    "        )"
   ]
  }
 ],
 "metadata": {
  "kernelspec": {
   "display_name": "Python 3",
   "language": "python",
   "name": "python3"
  },
  "language_info": {
   "codemirror_mode": {
    "name": "ipython",
    "version": 3
   },
   "file_extension": ".py",
   "mimetype": "text/x-python",
   "name": "python",
   "nbconvert_exporter": "python",
   "pygments_lexer": "ipython3",
   "version": "3.9.1"
  },
  "orig_nbformat": 4
 },
 "nbformat": 4,
 "nbformat_minor": 2
}
